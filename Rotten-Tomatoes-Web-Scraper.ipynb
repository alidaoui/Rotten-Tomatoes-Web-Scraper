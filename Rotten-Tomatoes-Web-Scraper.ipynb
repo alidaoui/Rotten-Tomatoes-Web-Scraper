{
 "cells": [
  {
   "cell_type": "markdown",
   "metadata": {},
   "source": [
    "# Step 1: Import Libraries"
   ]
  },
  {
   "cell_type": "code",
   "execution_count": 1,
   "metadata": {},
   "outputs": [],
   "source": [
    "import pandas as pd\n",
    "import requests\n",
    "from bs4 import BeautifulSoup\n",
    "import lxml"
   ]
  },
  {
   "cell_type": "markdown",
   "metadata": {},
   "source": [
    "# Step 2: Get Soup"
   ]
  },
  {
   "cell_type": "code",
   "execution_count": 2,
   "metadata": {},
   "outputs": [],
   "source": [
    "base_url='https://editorial.rottentomatoes.com/guide/140-essential-action-movies-to-watch-now/'"
   ]
  },
  {
   "cell_type": "code",
   "execution_count": 3,
   "metadata": {},
   "outputs": [
    {
     "data": {
      "text/plain": [
       "<Response [200]>"
      ]
     },
     "execution_count": 3,
     "metadata": {},
     "output_type": "execute_result"
    }
   ],
   "source": [
    "response=requests.get(base_url)\n",
    "response"
   ]
  },
  {
   "cell_type": "code",
   "execution_count": 4,
   "metadata": {},
   "outputs": [],
   "source": [
    "html=response.content"
   ]
  },
  {
   "cell_type": "code",
   "execution_count": 5,
   "metadata": {},
   "outputs": [],
   "source": [
    "soup= BeautifulSoup(html,'lxml')"
   ]
  },
  {
   "cell_type": "code",
   "execution_count": 6,
   "metadata": {},
   "outputs": [],
   "source": [
    "#with open(\"Rotten tomatoes.html\",\"wb\") as file:\n",
    "#    file.write(soup.prettify('utf-8'))"
   ]
  },
  {
   "cell_type": "markdown",
   "metadata": {},
   "source": [
    "# Step 3: Get Info From Soup"
   ]
  },
  {
   "cell_type": "code",
   "execution_count": 7,
   "metadata": {},
   "outputs": [
    {
     "data": {
      "text/plain": [
       "140"
      ]
     },
     "execution_count": 7,
     "metadata": {},
     "output_type": "execute_result"
    }
   ],
   "source": [
    "#find unique class or \"marker\" from source code using inspect element, then use it to search through soup\n",
    "rows=soup.find_all('div',class_='row countdown-item')\n",
    "len(rows)"
   ]
  },
  {
   "cell_type": "code",
   "execution_count": 13,
   "metadata": {},
   "outputs": [
    {
     "data": {
      "text/plain": [
       "<div class=\"row countdown-item\" id=\"row-index-140\" style=\"padding-left: 10px;\">\n",
       "<div class=\"countdown-index-resposive\">#140</div>\n",
       "<div class=\"col-sm-6 col-full-xs\">\n",
       "<a class=\"article_movie_poster\" href=\"https://www.rottentomatoes.com/m/1018009-running_scared/\">\n",
       "<div><img alt=\"\" class=\"article_poster\" sborder=\"\" src=\"https://resizing.flixster.com/CmoPUfXGhLtGpC1YxPG62_ibzQE=/180x240/v1.bTsxMTYxNDg5MjtqOzE4Nzk2OzIwNDg7NjE4OzgyNA\" style=\"border-color: #EEEEEE; border-style: solid; border-width: 1px;\"/></div>\n",
       "</a>\n",
       "</div>\n",
       "<div class=\"col-sm-18 col-full-xs countdown-item-content\">\n",
       "<div class=\"row countdown-item-title-bar\">\n",
       "<div class=\"col-sm-20 col-full-xs\" style=\"height: 100%;\">\n",
       "<div class=\"article_movie_title\" style=\"float: left;\">\n",
       "<div><h2><a href=\"https://www.rottentomatoes.com/m/1018009-running_scared/\">Running Scared</a> <span class=\"subtle start-year\">(1986)</span> <span class=\"icon tiny rotten\" title=\"Rotten\"></span> <span class=\"tMeterScore\">57%</span></h2></div>\n",
       "</div>\n",
       "</div>\n",
       "<div class=\"col-sm-4 col-full-xs\" style=\"height: 100%;\">\n",
       "<div class=\"countdown-index\">#140</div>\n",
       "</div>\n",
       "</div>\n",
       "<div class=\"row countdown-item-details\">\n",
       "<div class=\"col-sm-24\">\n",
       "<div class=\"info countdown-adjusted-score\"><span class=\"descriptor\">Adjusted Score: </span>58.223% <span class=\"glyphicon glyphicon-question-sign\" data-html=\"true\" data-original-title=\"The Adjusted Score comes from a weighted formula (Bayesian) that we use that accounts for variation in the number of reviews per movie.\" data-placement=\"top\" data-toggle=\"tooltip\" rel=\"tooltip\" title=\"\"></span></div>\n",
       "<div class=\"info critics-consensus\"><span class=\"descriptor\">Critics Consensus:</span> Running Scared struggles to strike a consistent balance between violent action and humor, but the chemistry between its well-matched leads keeps things entertaining.</div>\n",
       "<div class=\"info synopsis\"><span class=\"descriptor\">Synopsis:</span> Distinguished by a sharp, witty dialogue between its two cop protagonists, Ray and Danny (Gregory Hines and Billy Crystal), this...<a class=\"\" data-pageheader=\"\" href=\"https://www.rottentomatoes.com/m/1018009-running_scared/\" target=\"_top\"> [More]</a></div>\n",
       "<div class=\"info cast\">\n",
       "<span class=\"descriptor\">Starring:</span> <a class=\"\" href=\"/celebrity/gregory_hines/\">Gregory Hines</a>, <a class=\"\" href=\"/celebrity/billy_crystal/\">Billy Crystal</a>, <a class=\"\" href=\"/celebrity/jimmy_smits/\">Jimmy Smits</a>, <a class=\"\" href=\"/celebrity/steven_bauer/\">Steven Bauer</a></div>\n",
       "<div class=\"info director\">\n",
       "<span class=\"descriptor\">Directed By:</span> <a class=\"\" href=\"/celebrity/peter_hyams/\">Peter Hyams</a></div>\n",
       "</div>\n",
       "</div>\n",
       "</div>\n",
       "</div>"
      ]
     },
     "execution_count": 13,
     "metadata": {},
     "output_type": "execute_result"
    }
   ],
   "source": [
    "rows[0]"
   ]
  },
  {
   "cell_type": "code",
   "execution_count": 8,
   "metadata": {},
   "outputs": [
    {
     "data": {
      "text/plain": [
       "<h2><a href=\"https://www.rottentomatoes.com/m/1018009-running_scared/\">Running Scared</a> <span class=\"subtle start-year\">(1986)</span> <span class=\"icon tiny rotten\" title=\"Rotten\"></span> <span class=\"tMeterScore\">57%</span></h2>"
      ]
     },
     "execution_count": 8,
     "metadata": {},
     "output_type": "execute_result"
    }
   ],
   "source": [
    "#extract heading \"h2\" from all rows and put them in list headings\n",
    "headings= [row.find('h2') for row in rows]\n",
    "headings[0]"
   ]
  },
  {
   "cell_type": "markdown",
   "metadata": {},
   "source": [
    "### Titles"
   ]
  },
  {
   "cell_type": "code",
   "execution_count": 9,
   "metadata": {},
   "outputs": [
    {
     "data": {
      "text/plain": [
       "140"
      ]
     },
     "execution_count": 9,
     "metadata": {},
     "output_type": "execute_result"
    }
   ],
   "source": [
    "#extract titles from <a>\n",
    "titles=[heading.find(\"a\").string for heading in headings]\n",
    "len(titles)"
   ]
  },
  {
   "cell_type": "markdown",
   "metadata": {},
   "source": [
    "### Year"
   ]
  },
  {
   "cell_type": "code",
   "execution_count": 10,
   "metadata": {
    "scrolled": true
   },
   "outputs": [
    {
     "data": {
      "text/plain": [
       "'(2015)'"
      ]
     },
     "execution_count": 10,
     "metadata": {},
     "output_type": "execute_result"
    }
   ],
   "source": [
    "#extract year from <span>\n",
    "years=[heading.find('span').string for heading in headings]\n",
    "years[139]"
   ]
  },
  {
   "cell_type": "code",
   "execution_count": 11,
   "metadata": {},
   "outputs": [
    {
     "data": {
      "text/plain": [
       "'1971'"
      ]
     },
     "execution_count": 11,
     "metadata": {},
     "output_type": "execute_result"
    }
   ],
   "source": [
    "#strip the paranthesis\n",
    "years=[year.strip('()') for year in years]\n",
    "years[5]"
   ]
  },
  {
   "cell_type": "markdown",
   "metadata": {},
   "source": [
    "### Rating"
   ]
  },
  {
   "cell_type": "code",
   "execution_count": 14,
   "metadata": {},
   "outputs": [
    {
     "data": {
      "text/plain": [
       "'97%'"
      ]
     },
     "execution_count": 14,
     "metadata": {},
     "output_type": "execute_result"
    }
   ],
   "source": [
    "#extract rating from second <span>\n",
    "ratings=[heading.find('span',class_=\"tMeterScore\").string for heading in headings]\n",
    "ratings[139]"
   ]
  },
  {
   "cell_type": "markdown",
   "metadata": {},
   "source": [
    "### Critic Consensus"
   ]
  },
  {
   "cell_type": "code",
   "execution_count": 33,
   "metadata": {},
   "outputs": [
    {
     "data": {
      "text/plain": [
       "'Critics Consensus: Running Scared struggles to strike a consistent balance between violent action and humor, but the chemistry between its well-matched leads keeps things entertaining.'"
      ]
     },
     "execution_count": 33,
     "metadata": {},
     "output_type": "execute_result"
    }
   ],
   "source": [
    "#extract critic consensus\n",
    "critic_consensus= [row.find('div', class_=\"info critics-consensus\").text for row in rows]\n",
    "critic_consensus[0]"
   ]
  },
  {
   "cell_type": "code",
   "execution_count": 35,
   "metadata": {},
   "outputs": [],
   "source": [
    "# remove the common phrase in the beginning\n",
    "common_phrase='Critics Consensus: '\n",
    "commonlen=len(common_phrase)"
   ]
  },
  {
   "cell_type": "code",
   "execution_count": 41,
   "metadata": {},
   "outputs": [],
   "source": [
    "critic_consensus=[item[commonlen:] if item.startswith('Critics Consensus: ') else item for item in critic_consensus]"
   ]
  },
  {
   "cell_type": "code",
   "execution_count": 44,
   "metadata": {},
   "outputs": [
    {
     "data": {
      "text/plain": [
       "['Running Scared struggles to strike a consistent balance between violent action and humor, but the chemistry between its well-matched leads keeps things entertaining.',\n",
       " 'Equilibrium is a reheated mishmash of other sci-fi movies.',\n",
       " 'With death-defying action sequences and epic historic sweep, Hero offers everything a martial arts fan could ask for.',\n",
       " \"Whether Road House is simply bad or so bad it's good depends largely on the audience's fondness for Swayze -- and tolerance for violently cheesy action.\",\n",
       " \"As fast, loud, and relentless as the train at the center of the story, Unstoppable is perfect popcorn entertainment -- and director Tony Scott's best movie in years.\"]"
      ]
     },
     "execution_count": 44,
     "metadata": {},
     "output_type": "execute_result"
    }
   ],
   "source": [
    "critic_consensus[0:5]"
   ]
  },
  {
   "cell_type": "markdown",
   "metadata": {},
   "source": [
    "### Synopsis"
   ]
  },
  {
   "cell_type": "code",
   "execution_count": 17,
   "metadata": {
    "scrolled": true
   },
   "outputs": [
    {
     "data": {
      "text/plain": [
       "'Synopsis: Distinguished by a sharp, witty dialogue between its two cop protagonists, Ray and Danny (Gregory Hines and Billy Crystal), this... [More]'"
      ]
     },
     "execution_count": 17,
     "metadata": {},
     "output_type": "execute_result"
    }
   ],
   "source": [
    "#extract synopsis\n",
    "synopsis= [row.find('div', class_=\"info synopsis\").text for row in rows]\n",
    "synopsis[0]"
   ]
  },
  {
   "cell_type": "code",
   "execution_count": 46,
   "metadata": {},
   "outputs": [],
   "source": [
    "# remove the common phrase in the beginning\n",
    "common_phrase='Synopsis: '\n",
    "commonlen=len(common_phrase)"
   ]
  },
  {
   "cell_type": "code",
   "execution_count": 47,
   "metadata": {},
   "outputs": [],
   "source": [
    "synopsis=[item[commonlen:] if item.startswith('Synopsis: ') else item for item in synopsis]"
   ]
  },
  {
   "cell_type": "code",
   "execution_count": 50,
   "metadata": {},
   "outputs": [
    {
     "data": {
      "text/plain": [
       "['Distinguished by a sharp, witty dialogue between its two cop protagonists, Ray and Danny (Gregory Hines and Billy Crystal), this... [More]',\n",
       " 'In the nation of Libria, there is always peace among men. The rules of the Librian system are simple. If... [More]']"
      ]
     },
     "execution_count": 50,
     "metadata": {},
     "output_type": "execute_result"
    }
   ],
   "source": [
    "synopsis[0:2]"
   ]
  },
  {
   "cell_type": "markdown",
   "metadata": {},
   "source": [
    "### Cast"
   ]
  },
  {
   "cell_type": "code",
   "execution_count": 18,
   "metadata": {
    "scrolled": true
   },
   "outputs": [
    {
     "data": {
      "text/plain": [
       "'\\nStarring: Gregory Hines, Billy Crystal, Jimmy Smits, Steven Bauer'"
      ]
     },
     "execution_count": 18,
     "metadata": {},
     "output_type": "execute_result"
    }
   ],
   "source": [
    "#extract cast\n",
    "cast= [row.find('div', class_=\"info cast\").text for row in rows]\n",
    "cast[0]"
   ]
  },
  {
   "cell_type": "code",
   "execution_count": 51,
   "metadata": {},
   "outputs": [],
   "source": [
    "# remove the common phrase in the beginning\n",
    "common_phrase='\\nStarring: '\n",
    "commonlen=len(common_phrase)"
   ]
  },
  {
   "cell_type": "code",
   "execution_count": 52,
   "metadata": {},
   "outputs": [],
   "source": [
    "cast=[item[commonlen:] if item.startswith(common_phrase) else item for item in cast]"
   ]
  },
  {
   "cell_type": "code",
   "execution_count": 54,
   "metadata": {},
   "outputs": [
    {
     "data": {
      "text/plain": [
       "['Gregory Hines, Billy Crystal, Jimmy Smits, Steven Bauer',\n",
       " 'Christian Bale, Emily Watson, Taye Diggs, Angus Macfadyen']"
      ]
     },
     "execution_count": 54,
     "metadata": {},
     "output_type": "execute_result"
    }
   ],
   "source": [
    "cast[0:2]"
   ]
  },
  {
   "cell_type": "markdown",
   "metadata": {},
   "source": [
    "### Director"
   ]
  },
  {
   "cell_type": "code",
   "execution_count": 19,
   "metadata": {},
   "outputs": [
    {
     "data": {
      "text/plain": [
       "'\\nDirected By: Peter Hyams'"
      ]
     },
     "execution_count": 19,
     "metadata": {},
     "output_type": "execute_result"
    }
   ],
   "source": [
    "#extract director\n",
    "director= [row.find('div', class_=\"info director\").text for row in rows]\n",
    "director[0]"
   ]
  },
  {
   "cell_type": "code",
   "execution_count": 55,
   "metadata": {},
   "outputs": [],
   "source": [
    "# remove the common phrase in the beginning\n",
    "common_phrase='\\nDirected By: '\n",
    "commonlen=len(common_phrase)"
   ]
  },
  {
   "cell_type": "code",
   "execution_count": 56,
   "metadata": {},
   "outputs": [],
   "source": [
    "director=[item[commonlen:] if item.startswith(common_phrase) else item for item in director]"
   ]
  },
  {
   "cell_type": "code",
   "execution_count": 57,
   "metadata": {},
   "outputs": [
    {
     "data": {
      "text/plain": [
       "['Peter Hyams', 'Kurt Wimmer']"
      ]
     },
     "execution_count": 57,
     "metadata": {},
     "output_type": "execute_result"
    }
   ],
   "source": [
    "director[0:2]"
   ]
  },
  {
   "cell_type": "markdown",
   "metadata": {},
   "source": [
    "# Step 4: Construct Data Frame"
   ]
  },
  {
   "cell_type": "code",
   "execution_count": 66,
   "metadata": {},
   "outputs": [],
   "source": [
    "#put lists in a list to make it a dataframe\n",
    "df = pd.DataFrame(list(zip(titles, years,ratings,critic_consensus,synopsis,cast,director)), \n",
    "               columns =['Title','Year','Rating','Critic_Consensus','Synopsis','Cast','Director']) "
   ]
  },
  {
   "cell_type": "code",
   "execution_count": 67,
   "metadata": {
    "scrolled": true
   },
   "outputs": [
    {
     "data": {
      "text/html": [
       "<div>\n",
       "<style scoped>\n",
       "    .dataframe tbody tr th:only-of-type {\n",
       "        vertical-align: middle;\n",
       "    }\n",
       "\n",
       "    .dataframe tbody tr th {\n",
       "        vertical-align: top;\n",
       "    }\n",
       "\n",
       "    .dataframe thead th {\n",
       "        text-align: right;\n",
       "    }\n",
       "</style>\n",
       "<table border=\"1\" class=\"dataframe\">\n",
       "  <thead>\n",
       "    <tr style=\"text-align: right;\">\n",
       "      <th></th>\n",
       "      <th>Title</th>\n",
       "      <th>Year</th>\n",
       "      <th>Rating</th>\n",
       "      <th>Critic_Consensus</th>\n",
       "      <th>Synopsis</th>\n",
       "      <th>Cast</th>\n",
       "      <th>Director</th>\n",
       "    </tr>\n",
       "  </thead>\n",
       "  <tbody>\n",
       "    <tr>\n",
       "      <th>0</th>\n",
       "      <td>Running Scared</td>\n",
       "      <td>1986</td>\n",
       "      <td>57%</td>\n",
       "      <td>Running Scared struggles to strike a consisten...</td>\n",
       "      <td>Distinguished by a sharp, witty dialogue betwe...</td>\n",
       "      <td>Gregory Hines, Billy Crystal, Jimmy Smits, Ste...</td>\n",
       "      <td>Peter Hyams</td>\n",
       "    </tr>\n",
       "    <tr>\n",
       "      <th>1</th>\n",
       "      <td>Equilibrium</td>\n",
       "      <td>2002</td>\n",
       "      <td>41%</td>\n",
       "      <td>Equilibrium is a reheated mishmash of other sc...</td>\n",
       "      <td>In the nation of Libria, there is always peace...</td>\n",
       "      <td>Christian Bale, Emily Watson, Taye Diggs, Angu...</td>\n",
       "      <td>Kurt Wimmer</td>\n",
       "    </tr>\n",
       "    <tr>\n",
       "      <th>2</th>\n",
       "      <td>Hero</td>\n",
       "      <td>2004</td>\n",
       "      <td>95%</td>\n",
       "      <td>With death-defying action sequences and epic h...</td>\n",
       "      <td>Hero is two-time Academy Award nominee Zhang Y...</td>\n",
       "      <td>Jet Li, Tony Leung Chiu Wai, Maggie Cheung, Da...</td>\n",
       "      <td>Zhang Yimou</td>\n",
       "    </tr>\n",
       "  </tbody>\n",
       "</table>\n",
       "</div>"
      ],
      "text/plain": [
       "            Title  Year Rating  \\\n",
       "0  Running Scared  1986    57%   \n",
       "1     Equilibrium  2002    41%   \n",
       "2            Hero  2004    95%   \n",
       "\n",
       "                                    Critic_Consensus  \\\n",
       "0  Running Scared struggles to strike a consisten...   \n",
       "1  Equilibrium is a reheated mishmash of other sc...   \n",
       "2  With death-defying action sequences and epic h...   \n",
       "\n",
       "                                            Synopsis  \\\n",
       "0  Distinguished by a sharp, witty dialogue betwe...   \n",
       "1  In the nation of Libria, there is always peace...   \n",
       "2  Hero is two-time Academy Award nominee Zhang Y...   \n",
       "\n",
       "                                                Cast     Director  \n",
       "0  Gregory Hines, Billy Crystal, Jimmy Smits, Ste...  Peter Hyams  \n",
       "1  Christian Bale, Emily Watson, Taye Diggs, Angu...  Kurt Wimmer  \n",
       "2  Jet Li, Tony Leung Chiu Wai, Maggie Cheung, Da...  Zhang Yimou  "
      ]
     },
     "execution_count": 67,
     "metadata": {},
     "output_type": "execute_result"
    }
   ],
   "source": [
    "df.head(3)"
   ]
  },
  {
   "cell_type": "code",
   "execution_count": 78,
   "metadata": {},
   "outputs": [],
   "source": [
    "pd.set_option('display.max_colwidth',None)"
   ]
  },
  {
   "cell_type": "code",
   "execution_count": 79,
   "metadata": {},
   "outputs": [
    {
     "data": {
      "text/html": [
       "<div>\n",
       "<style scoped>\n",
       "    .dataframe tbody tr th:only-of-type {\n",
       "        vertical-align: middle;\n",
       "    }\n",
       "\n",
       "    .dataframe tbody tr th {\n",
       "        vertical-align: top;\n",
       "    }\n",
       "\n",
       "    .dataframe thead th {\n",
       "        text-align: right;\n",
       "    }\n",
       "</style>\n",
       "<table border=\"1\" class=\"dataframe\">\n",
       "  <thead>\n",
       "    <tr style=\"text-align: right;\">\n",
       "      <th></th>\n",
       "      <th>Title</th>\n",
       "      <th>Year</th>\n",
       "      <th>Rating</th>\n",
       "      <th>Critic_Consensus</th>\n",
       "      <th>Synopsis</th>\n",
       "      <th>Cast</th>\n",
       "      <th>Director</th>\n",
       "    </tr>\n",
       "  </thead>\n",
       "  <tbody>\n",
       "    <tr>\n",
       "      <th>0</th>\n",
       "      <td>Running Scared</td>\n",
       "      <td>1986</td>\n",
       "      <td>57%</td>\n",
       "      <td>Running Scared struggles to strike a consistent balance between violent action and humor, but the chemistry between its well-matched leads keeps things entertaining.</td>\n",
       "      <td>Distinguished by a sharp, witty dialogue between its two cop protagonists, Ray and Danny (Gregory Hines and Billy Crystal), this... [More]</td>\n",
       "      <td>Gregory Hines, Billy Crystal, Jimmy Smits, Steven Bauer</td>\n",
       "      <td>Peter Hyams</td>\n",
       "    </tr>\n",
       "    <tr>\n",
       "      <th>1</th>\n",
       "      <td>Equilibrium</td>\n",
       "      <td>2002</td>\n",
       "      <td>41%</td>\n",
       "      <td>Equilibrium is a reheated mishmash of other sci-fi movies.</td>\n",
       "      <td>In the nation of Libria, there is always peace among men. The rules of the Librian system are simple. If... [More]</td>\n",
       "      <td>Christian Bale, Emily Watson, Taye Diggs, Angus Macfadyen</td>\n",
       "      <td>Kurt Wimmer</td>\n",
       "    </tr>\n",
       "    <tr>\n",
       "      <th>2</th>\n",
       "      <td>Hero</td>\n",
       "      <td>2004</td>\n",
       "      <td>95%</td>\n",
       "      <td>With death-defying action sequences and epic historic sweep, Hero offers everything a martial arts fan could ask for.</td>\n",
       "      <td>Hero is two-time Academy Award nominee Zhang Yimou's directorial attempt at exploring the concept of a Chinese hero. During the... [More]</td>\n",
       "      <td>Jet Li, Tony Leung Chiu Wai, Maggie Cheung, Daoming Chen</td>\n",
       "      <td>Zhang Yimou</td>\n",
       "    </tr>\n",
       "  </tbody>\n",
       "</table>\n",
       "</div>"
      ],
      "text/plain": [
       "            Title  Year Rating  \\\n",
       "0  Running Scared  1986    57%   \n",
       "1     Equilibrium  2002    41%   \n",
       "2            Hero  2004    95%   \n",
       "\n",
       "                                                                                                                                                        Critic_Consensus  \\\n",
       "0  Running Scared struggles to strike a consistent balance between violent action and humor, but the chemistry between its well-matched leads keeps things entertaining.   \n",
       "1                                                                                                             Equilibrium is a reheated mishmash of other sci-fi movies.   \n",
       "2                                                  With death-defying action sequences and epic historic sweep, Hero offers everything a martial arts fan could ask for.   \n",
       "\n",
       "                                                                                                                                     Synopsis  \\\n",
       "0  Distinguished by a sharp, witty dialogue between its two cop protagonists, Ray and Danny (Gregory Hines and Billy Crystal), this... [More]   \n",
       "1                          In the nation of Libria, there is always peace among men. The rules of the Librian system are simple. If... [More]   \n",
       "2   Hero is two-time Academy Award nominee Zhang Yimou's directorial attempt at exploring the concept of a Chinese hero. During the... [More]   \n",
       "\n",
       "                                                        Cast     Director  \n",
       "0    Gregory Hines, Billy Crystal, Jimmy Smits, Steven Bauer  Peter Hyams  \n",
       "1  Christian Bale, Emily Watson, Taye Diggs, Angus Macfadyen  Kurt Wimmer  \n",
       "2   Jet Li, Tony Leung Chiu Wai, Maggie Cheung, Daoming Chen  Zhang Yimou  "
      ]
     },
     "execution_count": 79,
     "metadata": {},
     "output_type": "execute_result"
    }
   ],
   "source": [
    "df.head(3)"
   ]
  },
  {
   "cell_type": "code",
   "execution_count": 68,
   "metadata": {},
   "outputs": [
    {
     "data": {
      "text/html": [
       "<div>\n",
       "<style scoped>\n",
       "    .dataframe tbody tr th:only-of-type {\n",
       "        vertical-align: middle;\n",
       "    }\n",
       "\n",
       "    .dataframe tbody tr th {\n",
       "        vertical-align: top;\n",
       "    }\n",
       "\n",
       "    .dataframe thead th {\n",
       "        text-align: right;\n",
       "    }\n",
       "</style>\n",
       "<table border=\"1\" class=\"dataframe\">\n",
       "  <thead>\n",
       "    <tr style=\"text-align: right;\">\n",
       "      <th></th>\n",
       "      <th>Title</th>\n",
       "      <th>Year</th>\n",
       "      <th>Rating</th>\n",
       "      <th>Critic_Consensus</th>\n",
       "      <th>Synopsis</th>\n",
       "      <th>Cast</th>\n",
       "      <th>Director</th>\n",
       "    </tr>\n",
       "  </thead>\n",
       "  <tbody>\n",
       "    <tr>\n",
       "      <th>75</th>\n",
       "      <td>Iron Man</td>\n",
       "      <td>2008</td>\n",
       "      <td>94%</td>\n",
       "      <td>Powered by Robert Downey Jr.'s vibrant charm, ...</td>\n",
       "      <td>Billionaire industrialist and genius inventor ...</td>\n",
       "      <td>Robert Downey Jr., Terrence Howard, Jeff Bridg...</td>\n",
       "      <td></td>\n",
       "    </tr>\n",
       "  </tbody>\n",
       "</table>\n",
       "</div>"
      ],
      "text/plain": [
       "       Title  Year Rating                                   Critic_Consensus  \\\n",
       "75  Iron Man  2008    94%  Powered by Robert Downey Jr.'s vibrant charm, ...   \n",
       "\n",
       "                                             Synopsis  \\\n",
       "75  Billionaire industrialist and genius inventor ...   \n",
       "\n",
       "                                                 Cast Director  \n",
       "75  Robert Downey Jr., Terrence Howard, Jeff Bridg...           "
      ]
     },
     "execution_count": 68,
     "metadata": {},
     "output_type": "execute_result"
    }
   ],
   "source": [
    "#see specific row\n",
    "df.loc[df['Title'] == 'Iron Man']"
   ]
  },
  {
   "cell_type": "markdown",
   "metadata": {},
   "source": [
    "# Step 5: Export File"
   ]
  },
  {
   "cell_type": "code",
   "execution_count": 80,
   "metadata": {},
   "outputs": [],
   "source": [
    "df.to_csv('Movies Info.csv',index=False, header=True)"
   ]
  }
 ],
 "metadata": {
  "kernelspec": {
   "display_name": "Python 3",
   "language": "python",
   "name": "python3"
  },
  "language_info": {
   "codemirror_mode": {
    "name": "ipython",
    "version": 3
   },
   "file_extension": ".py",
   "mimetype": "text/x-python",
   "name": "python",
   "nbconvert_exporter": "python",
   "pygments_lexer": "ipython3",
   "version": "3.8.5"
  }
 },
 "nbformat": 4,
 "nbformat_minor": 4
}
